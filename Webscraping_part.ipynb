{
 "cells": [
  {
   "cell_type": "code",
   "execution_count": 1,
   "metadata": {},
   "outputs": [],
   "source": [
    "import csv\n",
    "from bs4 import BeautifulSoup"
   ]
  },
  {
   "cell_type": "code",
   "execution_count": 2,
   "metadata": {},
   "outputs": [],
   "source": [
    "# opening html offline & parsing with BeautifulSoup\n",
    "htm= open(\"UK_usedCars.html\", 'r')\n",
    "soup = BeautifulSoup(htm.read(), 'html.parser')\n",
    "\n",
    "def extract_rows(soup,class_='sc-gAOGNj sc-bXGNvv eYELsP hTKZnU'):\n",
    "    \"\"\" Extracting data from html based on div class \"\"\"\n",
    "    rows= soup.find_all('div',class_)\n",
    "    \n",
    "    return [rows[i].getText('div').split('div') for i in range(len(rows))]\n",
    "\n",
    "def export_data(rows):\n",
    "    \"\"\" Export data to csv file with headers \"\"\"\n",
    "    with open('toyota.csv', 'w') as csvfile:\n",
    "        file_obj = csv.writer(csvfile)\n",
    "        file_obj.writerow(['model', 'year','price','transmission','mileage','fuelType','tax','mpg', 'engineSize'])\n",
    "        file_obj.writerows(rows)\n",
    "        \n",
    "data = extract_rows(soup,class_='sc-gAOGNj sc-bXGNvv eYELsP hTKZnU')\n",
    "export_data(data)"
   ]
  },
  {
   "cell_type": "code",
   "execution_count": 3,
   "metadata": {},
   "outputs": [
    {
     "data": {
      "text/plain": [
       "[[' GT86', '2016', '16000', 'Manual', '24089', 'Petrol', '265', '36.2', '2.0'],\n",
       " [' GT86', '2017', '15995', 'Manual', '18615', 'Petrol', '145', '36.2', '2.0'],\n",
       " [' GT86', '2015', '13998', 'Manual', '27469', 'Petrol', '265', '36.2', '2.0'],\n",
       " [' GT86', '2017', '18998', 'Manual', '14736', 'Petrol', '150', '36.2', '2.0'],\n",
       " [' GT86', '2017', '17498', 'Manual', '36284', 'Petrol', '145', '36.2', '2.0']]"
      ]
     },
     "execution_count": 3,
     "metadata": {},
     "output_type": "execute_result"
    }
   ],
   "source": [
    "data[0:5]"
   ]
  },
  {
   "cell_type": "code",
   "execution_count": null,
   "metadata": {},
   "outputs": [],
   "source": []
  }
 ],
 "metadata": {
  "kernelspec": {
   "display_name": "Python 3",
   "language": "python",
   "name": "python3"
  },
  "language_info": {
   "codemirror_mode": {
    "name": "ipython",
    "version": 3
   },
   "file_extension": ".py",
   "mimetype": "text/x-python",
   "name": "python",
   "nbconvert_exporter": "python",
   "pygments_lexer": "ipython3",
   "version": "3.7.4"
  }
 },
 "nbformat": 4,
 "nbformat_minor": 2
}
